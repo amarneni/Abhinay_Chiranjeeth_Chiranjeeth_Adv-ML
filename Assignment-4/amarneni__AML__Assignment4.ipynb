{
  "nbformat": 4,
  "nbformat_minor": 0,
  "metadata": {
    "colab": {
      "provenance": []
    },
    "kernelspec": {
      "name": "python3",
      "display_name": "Python 3"
    },
    "language_info": {
      "name": "python"
    },
    "accelerator": "GPU",
    "gpuClass": "standard"
  },
  "cells": [
    {
      "cell_type": "markdown",
      "source": [
        "Downloading the Dataset"
      ],
      "metadata": {
        "id": "WR_PhROY9uha"
      }
    },
    {
      "cell_type": "code",
      "execution_count": null,
      "metadata": {
        "id": "HYlZsclewdhZ",
        "outputId": "db9c2dc9-09b2-4ef2-df7f-2840e48d3a02",
        "colab": {
          "base_uri": "https://localhost:8080/"
        }
      },
      "outputs": [
        {
          "output_type": "stream",
          "name": "stdout",
          "text": [
            "  % Total    % Received % Xferd  Average Speed   Time    Time     Time  Current\n",
            "                                 Dload  Upload   Total   Spent    Left  Speed\n",
            "100 80.2M  100 80.2M    0     0  31.6M      0  0:00:02  0:00:02 --:--:-- 31.6M\n"
          ]
        }
      ],
      "source": [
        "!curl -O https://ai.stanford.edu/~amaas/data/sentiment/aclImdb_v1.tar.gz\n",
        "!tar -xf aclImdb_v1.tar.gz\n",
        "!rm -r aclImdb/train/unsup"
      ]
    },
    {
      "cell_type": "markdown",
      "metadata": {
        "id": "q35skPtfwdha"
      },
      "source": [
        "**Preparing the data**"
      ]
    },
    {
      "cell_type": "code",
      "execution_count": null,
      "metadata": {
        "id": "utLS2B-rwdha"
      },
      "outputs": [],
      "source": [
        "import os, pathlib, shutil, random\n",
        "from tensorflow import keras\n",
        "batch_size = 32\n",
        "base_dir = pathlib.Path(\"aclImdb\")\n",
        "val_dir = base_dir / \"val\"\n",
        "train_n = base_dir / \"train_n\"\n",
        "train_dir = base_dir / \"train\"\n",
        "for category in (\"neg\", \"pos\"):\n",
        "    os.makedirs(val_dir / category)\n",
        "    files = os.listdir(train_dir / category)\n",
        "    random.Random(1337).shuffle(files)\n",
        "    num_val_samples = 10000\n",
        "    val_files = files[-num_val_samples:]\n",
        "    for fname in val_files:\n",
        "        shutil.move(train_dir / category / fname,\n",
        "                    val_dir / category / fname)"
      ]
    },
    {
      "cell_type": "code",
      "source": [
        "shutil.rmtree('aclImdb/val')"
      ],
      "metadata": {
        "id": "oe0mGygPNXyz"
      },
      "execution_count": null,
      "outputs": []
    },
    {
      "cell_type": "code",
      "source": [
        "shutil.rmtree('aclImdb/train_n')"
      ],
      "metadata": {
        "id": "GnZbMF_0Hp0d"
      },
      "execution_count": null,
      "outputs": []
    },
    {
      "cell_type": "code",
      "source": [
        "for category in (\"neg\", \"pos\"):\n",
        "    os.makedirs(train_n / category)\n",
        "    files = os.listdir(train_dir / category)\n",
        "    num_train_samples=250\n",
        "    train_files = files[-num_train_samples:]\n",
        "    for fname in train_files:\n",
        "        shutil.move(train_dir / category / fname,\n",
        "                    train_n / category / fname)\n",
        "\n",
        "train_ds = keras.utils.text_dataset_from_directory(\n",
        "    \"aclImdb/train_n\", batch_size=batch_size\n",
        ")\n",
        "val_ds = keras.utils.text_dataset_from_directory(\n",
        "    \"aclImdb/val\", batch_size=batch_size\n",
        ")\n",
        "test_ds = keras.utils.text_dataset_from_directory(\n",
        "    \"aclImdb/test\", batch_size=batch_size\n",
        ")\n",
        "text_only_train_ds = train_ds.map(lambda x, y: x)"
      ],
      "metadata": {
        "colab": {
          "base_uri": "https://localhost:8080/"
        },
        "id": "VZykVrNW9_mz",
        "outputId": "c93e0642-60c1-4d87-884a-141d9e3d903d"
      },
      "execution_count": null,
      "outputs": [
        {
          "output_type": "stream",
          "name": "stdout",
          "text": [
            "Found 500 files belonging to 2 classes.\n",
            "Found 20000 files belonging to 2 classes.\n",
            "Found 25000 files belonging to 2 classes.\n"
          ]
        }
      ]
    },
    {
      "cell_type": "markdown",
      "metadata": {
        "id": "FIYRX-EEwdhb"
      },
      "source": [
        "**Preparing integer sequence datasets**"
      ]
    },
    {
      "cell_type": "code",
      "execution_count": null,
      "metadata": {
        "id": "stZYhV6Gwdhb"
      },
      "outputs": [],
      "source": [
        "from tensorflow.keras import layers\n",
        "\n",
        "max_length = 150\n",
        "max_tokens = 10000\n",
        "text_vectorization = layers.TextVectorization(\n",
        "    max_tokens=max_tokens,\n",
        "    output_mode=\"int\",\n",
        "    output_sequence_length=max_length,\n",
        ")\n",
        "text_vectorization.adapt(text_only_train_ds)\n",
        "\n",
        "int_train_ds = train_ds.map(\n",
        "    lambda x, y: (text_vectorization(x), y),\n",
        "    num_parallel_calls=4)\n",
        "int_val_ds = val_ds.map(\n",
        "    lambda x, y: (text_vectorization(x), y),\n",
        "    num_parallel_calls=4)\n",
        "int_test_ds = test_ds.map(\n",
        "    lambda x, y: (text_vectorization(x), y),\n",
        "    num_parallel_calls=4)"
      ]
    },
    {
      "cell_type": "markdown",
      "metadata": {
        "id": "Zpv8zlCawdhc"
      },
      "source": [
        "**A sequence model built on one-hot encoded vector sequences**"
      ]
    },
    {
      "cell_type": "code",
      "execution_count": null,
      "metadata": {
        "id": "1Dtqenccwdhc",
        "outputId": "b6a22980-fb4c-452a-841f-f06c1263b556",
        "colab": {
          "base_uri": "https://localhost:8080/"
        }
      },
      "outputs": [
        {
          "output_type": "stream",
          "name": "stdout",
          "text": [
            "Model: \"model_16\"\n",
            "_________________________________________________________________\n",
            " Layer (type)                Output Shape              Param #   \n",
            "=================================================================\n",
            " input_17 (InputLayer)       [(None, None)]            0         \n",
            "                                                                 \n",
            " tf.one_hot_4 (TFOpLambda)   (None, None, 10000)       0         \n",
            "                                                                 \n",
            " bidirectional_16 (Bidirecti  (None, 64)               2568448   \n",
            " onal)                                                           \n",
            "                                                                 \n",
            " dropout_16 (Dropout)        (None, 64)                0         \n",
            "                                                                 \n",
            " dense_16 (Dense)            (None, 1)                 65        \n",
            "                                                                 \n",
            "=================================================================\n",
            "Total params: 2,568,513\n",
            "Trainable params: 2,568,513\n",
            "Non-trainable params: 0\n",
            "_________________________________________________________________\n"
          ]
        }
      ],
      "source": [
        "import tensorflow as tf\n",
        "inputs = keras.Input(shape=(None,), dtype=\"int64\")\n",
        "embedded = tf.one_hot(inputs, depth=max_tokens)\n",
        "x = layers.Bidirectional(layers.LSTM(32))(embedded)\n",
        "x = layers.Dropout(0.5)(x)\n",
        "outputs = layers.Dense(1, activation=\"sigmoid\")(x)\n",
        "model = keras.Model(inputs, outputs)\n",
        "model.compile(optimizer=\"adam\",\n",
        "              loss=\"binary_crossentropy\",\n",
        "              metrics=[\"accuracy\"])\n",
        "model.summary()"
      ]
    },
    {
      "cell_type": "markdown",
      "metadata": {
        "id": "4FhHBichwdhc"
      },
      "source": [
        "**Training a first basic sequence model**"
      ]
    },
    {
      "cell_type": "code",
      "execution_count": null,
      "metadata": {
        "id": "wDs1Vmeewdhd",
        "outputId": "3f1db51d-bf32-46b0-dd0d-589dc079b066",
        "colab": {
          "base_uri": "https://localhost:8080/"
        }
      },
      "outputs": [
        {
          "output_type": "stream",
          "name": "stdout",
          "text": [
            "Epoch 1/10\n",
            "16/16 [==============================] - 12s 491ms/step - loss: 0.8876 - accuracy: 0.4900 - val_loss: 0.7603 - val_accuracy: 0.5196\n",
            "Epoch 2/10\n",
            "16/16 [==============================] - 9s 571ms/step - loss: 0.6480 - accuracy: 0.6080 - val_loss: 0.7000 - val_accuracy: 0.5461\n",
            "Epoch 3/10\n",
            "16/16 [==============================] - 13s 855ms/step - loss: 0.5273 - accuracy: 0.7720 - val_loss: 0.6915 - val_accuracy: 0.5756\n",
            "Epoch 4/10\n",
            "16/16 [==============================] - 8s 509ms/step - loss: 0.3671 - accuracy: 0.8940 - val_loss: 0.7142 - val_accuracy: 0.6078\n",
            "Epoch 5/10\n",
            "16/16 [==============================] - 7s 427ms/step - loss: 0.2176 - accuracy: 0.9440 - val_loss: 0.7665 - val_accuracy: 0.6277\n",
            "Epoch 6/10\n",
            "16/16 [==============================] - 13s 837ms/step - loss: 0.1007 - accuracy: 0.9860 - val_loss: 0.8355 - val_accuracy: 0.6406\n",
            "Epoch 7/10\n",
            "16/16 [==============================] - 7s 458ms/step - loss: 0.0590 - accuracy: 0.9940 - val_loss: 1.0058 - val_accuracy: 0.6411\n",
            "Epoch 8/10\n",
            "16/16 [==============================] - 8s 507ms/step - loss: 0.0551 - accuracy: 0.9940 - val_loss: 0.8506 - val_accuracy: 0.6355\n",
            "Epoch 9/10\n",
            "16/16 [==============================] - 12s 799ms/step - loss: 0.0451 - accuracy: 0.9960 - val_loss: 1.0065 - val_accuracy: 0.6485\n",
            "Epoch 10/10\n",
            "16/16 [==============================] - 8s 514ms/step - loss: 0.0324 - accuracy: 0.9960 - val_loss: 1.1467 - val_accuracy: 0.6495\n",
            "782/782 [==============================] - 8s 10ms/step - loss: 0.6970 - accuracy: 0.5650\n",
            "Test acc: 0.565\n"
          ]
        }
      ],
      "source": [
        "callbacks = [\n",
        "    keras.callbacks.ModelCheckpoint(\"one_hot_bidir_lstm.keras\",\n",
        "                                    save_best_only=True,\n",
        "                                    monitor=\"val_loss\")\n",
        "]\n",
        "model.fit(int_train_ds, validation_data=int_val_ds, epochs=10, callbacks=callbacks)\n",
        "model = keras.models.load_model(\"one_hot_bidir_lstm.keras\")\n",
        "print(f\"Test acc: {model.evaluate(int_test_ds)[1]:.3f}\")"
      ]
    },
    {
      "cell_type": "markdown",
      "metadata": {
        "id": "awodVR74wdhd"
      },
      "source": [
        "**Instantiating an `Embedding` layer**"
      ]
    },
    {
      "cell_type": "code",
      "execution_count": null,
      "metadata": {
        "id": "AuGd7oNbwdhd"
      },
      "outputs": [],
      "source": [
        "embedding_layer = layers.Embedding(input_dim=max_tokens, output_dim=256)"
      ]
    },
    {
      "cell_type": "markdown",
      "metadata": {
        "id": "u1MGc8Yhwdhd"
      },
      "source": [
        "**Model that uses an `Embedding` layer trained from scratch**"
      ]
    },
    {
      "cell_type": "code",
      "execution_count": null,
      "metadata": {
        "id": "DZnTdOluwdhe",
        "outputId": "10d38797-7a0e-473d-a33c-79bb6a0e5726",
        "colab": {
          "base_uri": "https://localhost:8080/"
        }
      },
      "outputs": [
        {
          "output_type": "stream",
          "name": "stdout",
          "text": [
            "Model: \"model_13\"\n",
            "_________________________________________________________________\n",
            " Layer (type)                Output Shape              Param #   \n",
            "=================================================================\n",
            " input_14 (InputLayer)       [(None, None)]            0         \n",
            "                                                                 \n",
            " embedding_9 (Embedding)     (None, None, 256)         2560000   \n",
            "                                                                 \n",
            " bidirectional_13 (Bidirecti  (None, 64)               73984     \n",
            " onal)                                                           \n",
            "                                                                 \n",
            " dropout_13 (Dropout)        (None, 64)                0         \n",
            "                                                                 \n",
            " dense_13 (Dense)            (None, 1)                 65        \n",
            "                                                                 \n",
            "=================================================================\n",
            "Total params: 2,634,049\n",
            "Trainable params: 2,634,049\n",
            "Non-trainable params: 0\n",
            "_________________________________________________________________\n"
          ]
        }
      ],
      "source": [
        "inputs = keras.Input(shape=(None,), dtype=\"int64\")\n",
        "embedded = layers.Embedding(input_dim=max_tokens, output_dim=256)(inputs)\n",
        "x = layers.Bidirectional(layers.LSTM(32))(embedded)\n",
        "x = layers.Dropout(0.5)(x)\n",
        "outputs = layers.Dense(1, activation=\"sigmoid\")(x)\n",
        "model = keras.Model(inputs, outputs)\n",
        "model.compile(optimizer=\"adam\",\n",
        "              loss=\"binary_crossentropy\",\n",
        "              metrics=[\"accuracy\"])\n",
        "model.summary()\n",
        "\n"
      ]
    },
    {
      "cell_type": "code",
      "source": [
        "callbacks = [\n",
        "    keras.callbacks.ModelCheckpoint(\"embeddings_bidir_gru.keras\",\n",
        "                                    save_best_only=True,\n",
        "                                    monitor=\"val_loss\")\n",
        "]\n",
        "model.fit(int_train_ds, validation_data=int_val_ds, epochs=10, callbacks=callbacks)\n",
        "model = keras.models.load_model(\"embeddings_bidir_gru.keras\")\n",
        "print(f\"Test acc: {model.evaluate(int_test_ds)[1]:.3f}\")"
      ],
      "metadata": {
        "colab": {
          "base_uri": "https://localhost:8080/"
        },
        "id": "BoogGWNoEe6R",
        "outputId": "3140a066-597e-4b16-b51f-db2d6ef507e6"
      },
      "execution_count": null,
      "outputs": [
        {
          "output_type": "stream",
          "name": "stdout",
          "text": [
            "Epoch 1/10\n",
            "16/16 [==============================] - 11s 519ms/step - loss: 0.3594 - accuracy: 0.9060 - val_loss: 0.7083 - val_accuracy: 0.6090\n",
            "Epoch 2/10\n",
            "16/16 [==============================] - 7s 466ms/step - loss: 0.2284 - accuracy: 0.9400 - val_loss: 0.7241 - val_accuracy: 0.6263\n",
            "Epoch 3/10\n",
            "16/16 [==============================] - 8s 526ms/step - loss: 0.1211 - accuracy: 0.9860 - val_loss: 0.9134 - val_accuracy: 0.6340\n",
            "Epoch 4/10\n",
            "16/16 [==============================] - 7s 459ms/step - loss: 0.0653 - accuracy: 0.9880 - val_loss: 0.7718 - val_accuracy: 0.6361\n",
            "Epoch 5/10\n",
            "16/16 [==============================] - 8s 513ms/step - loss: 0.0596 - accuracy: 1.0000 - val_loss: 0.8978 - val_accuracy: 0.6515\n",
            "Epoch 6/10\n",
            "16/16 [==============================] - 13s 822ms/step - loss: 0.0319 - accuracy: 0.9980 - val_loss: 1.0315 - val_accuracy: 0.6561\n",
            "Epoch 7/10\n",
            "16/16 [==============================] - 12s 797ms/step - loss: 0.0234 - accuracy: 1.0000 - val_loss: 1.0428 - val_accuracy: 0.6564\n",
            "Epoch 8/10\n",
            "16/16 [==============================] - 7s 483ms/step - loss: 0.0178 - accuracy: 1.0000 - val_loss: 1.2057 - val_accuracy: 0.6515\n",
            "Epoch 9/10\n",
            "16/16 [==============================] - 7s 459ms/step - loss: 0.0147 - accuracy: 1.0000 - val_loss: 1.2922 - val_accuracy: 0.6520\n",
            "Epoch 10/10\n",
            "16/16 [==============================] - 8s 491ms/step - loss: 0.0120 - accuracy: 1.0000 - val_loss: 1.3942 - val_accuracy: 0.6474\n",
            "782/782 [==============================] - 8s 10ms/step - loss: 0.7138 - accuracy: 0.6067\n",
            "Test acc: 0.607\n"
          ]
        }
      ]
    },
    {
      "cell_type": "markdown",
      "metadata": {
        "id": "GxDEK0wMwdhe"
      },
      "source": [
        "**Using an `Embedding` layer with masking enabled**"
      ]
    },
    {
      "cell_type": "code",
      "execution_count": null,
      "metadata": {
        "id": "J4ufuH21wdhe",
        "outputId": "0f16650a-c097-4669-e92c-b3857ba2f599",
        "colab": {
          "base_uri": "https://localhost:8080/"
        }
      },
      "outputs": [
        {
          "output_type": "stream",
          "name": "stdout",
          "text": [
            "Model: \"model_14\"\n",
            "_________________________________________________________________\n",
            " Layer (type)                Output Shape              Param #   \n",
            "=================================================================\n",
            " input_15 (InputLayer)       [(None, None)]            0         \n",
            "                                                                 \n",
            " embedding_10 (Embedding)    (None, None, 256)         2560000   \n",
            "                                                                 \n",
            " bidirectional_14 (Bidirecti  (None, 64)               73984     \n",
            " onal)                                                           \n",
            "                                                                 \n",
            " dropout_14 (Dropout)        (None, 64)                0         \n",
            "                                                                 \n",
            " dense_14 (Dense)            (None, 1)                 65        \n",
            "                                                                 \n",
            "=================================================================\n",
            "Total params: 2,634,049\n",
            "Trainable params: 2,634,049\n",
            "Non-trainable params: 0\n",
            "_________________________________________________________________\n"
          ]
        }
      ],
      "source": [
        "inputs = keras.Input(shape=(None,), dtype=\"int64\")\n",
        "embedded = layers.Embedding(\n",
        "    input_dim=max_tokens, output_dim=256, mask_zero=True)(inputs)\n",
        "x = layers.Bidirectional(layers.LSTM(32))(embedded)\n",
        "x = layers.Dropout(0.5)(x)\n",
        "outputs = layers.Dense(1, activation=\"sigmoid\")(x)\n",
        "model = keras.Model(inputs, outputs)\n",
        "model.compile(optimizer=\"adam\",\n",
        "              loss=\"binary_crossentropy\",\n",
        "              metrics=[\"accuracy\"])\n",
        "model.summary()\n",
        "\n"
      ]
    },
    {
      "cell_type": "code",
      "source": [
        "callbacks = [\n",
        "    keras.callbacks.ModelCheckpoint(\"embeddings_bidir_gru_with_masking.keras\",\n",
        "                                    save_best_only=True)\n",
        "]\n",
        "model.fit(int_train_ds, validation_data=int_val_ds, epochs=10, callbacks=callbacks)\n",
        "model = keras.models.load_model(\"embeddings_bidir_gru_with_masking.keras\")\n",
        "print(f\"Test acc: {model.evaluate(int_test_ds)[1]:.3f}\")"
      ],
      "metadata": {
        "colab": {
          "base_uri": "https://localhost:8080/"
        },
        "id": "5wgPOFj4Euy9",
        "outputId": "4e74bd51-67b8-4b83-9508-4d69adcfe6f8"
      },
      "execution_count": null,
      "outputs": [
        {
          "output_type": "stream",
          "name": "stdout",
          "text": [
            "Epoch 1/10\n",
            "16/16 [==============================] - 11s 557ms/step - loss: 0.2279 - accuracy: 0.9380 - val_loss: 0.7286 - val_accuracy: 0.6213\n",
            "Epoch 2/10\n",
            "16/16 [==============================] - 8s 488ms/step - loss: 0.1259 - accuracy: 0.9840 - val_loss: 0.9258 - val_accuracy: 0.6284\n",
            "Epoch 3/10\n",
            "16/16 [==============================] - 9s 570ms/step - loss: 0.0789 - accuracy: 0.9900 - val_loss: 0.8392 - val_accuracy: 0.6460\n",
            "Epoch 4/10\n",
            "16/16 [==============================] - 13s 849ms/step - loss: 0.0511 - accuracy: 0.9940 - val_loss: 0.8997 - val_accuracy: 0.6504\n",
            "Epoch 5/10\n",
            "16/16 [==============================] - 8s 518ms/step - loss: 0.0398 - accuracy: 0.9980 - val_loss: 0.8660 - val_accuracy: 0.6489\n",
            "Epoch 6/10\n",
            "16/16 [==============================] - 7s 437ms/step - loss: 0.0247 - accuracy: 1.0000 - val_loss: 1.1491 - val_accuracy: 0.6492\n",
            "Epoch 7/10\n",
            "16/16 [==============================] - 8s 490ms/step - loss: 0.0169 - accuracy: 1.0000 - val_loss: 1.2431 - val_accuracy: 0.6464\n",
            "Epoch 8/10\n",
            "16/16 [==============================] - 8s 513ms/step - loss: 0.0136 - accuracy: 1.0000 - val_loss: 1.3195 - val_accuracy: 0.6463\n",
            "Epoch 9/10\n",
            "16/16 [==============================] - 7s 444ms/step - loss: 0.0126 - accuracy: 1.0000 - val_loss: 1.4084 - val_accuracy: 0.6433\n",
            "Epoch 10/10\n",
            "16/16 [==============================] - 6s 396ms/step - loss: 0.0104 - accuracy: 1.0000 - val_loss: 1.4609 - val_accuracy: 0.6421\n",
            "782/782 [==============================] - 9s 9ms/step - loss: 0.7351 - accuracy: 0.6192\n",
            "Test acc: 0.619\n"
          ]
        }
      ]
    },
    {
      "cell_type": "markdown",
      "metadata": {
        "id": "nl8tO2Juwdhe"
      },
      "source": [
        "#### Using pretrained word embeddings"
      ]
    },
    {
      "cell_type": "code",
      "execution_count": null,
      "metadata": {
        "colab": {
          "base_uri": "https://localhost:8080/"
        },
        "id": "CtlOslROwdhe",
        "outputId": "23695308-4a88-4bb1-ab42-994bcbbd3417"
      },
      "outputs": [
        {
          "output_type": "stream",
          "name": "stdout",
          "text": [
            "--2023-04-16 17:06:02--  http://nlp.stanford.edu/data/glove.6B.zip\n",
            "Resolving nlp.stanford.edu (nlp.stanford.edu)... 171.64.67.140\n",
            "Connecting to nlp.stanford.edu (nlp.stanford.edu)|171.64.67.140|:80... connected.\n",
            "HTTP request sent, awaiting response... 302 Found\n",
            "Location: https://nlp.stanford.edu/data/glove.6B.zip [following]\n",
            "--2023-04-16 17:06:02--  https://nlp.stanford.edu/data/glove.6B.zip\n",
            "Connecting to nlp.stanford.edu (nlp.stanford.edu)|171.64.67.140|:443... connected.\n",
            "HTTP request sent, awaiting response... 301 Moved Permanently\n",
            "Location: https://downloads.cs.stanford.edu/nlp/data/glove.6B.zip [following]\n",
            "--2023-04-16 17:06:02--  https://downloads.cs.stanford.edu/nlp/data/glove.6B.zip\n",
            "Resolving downloads.cs.stanford.edu (downloads.cs.stanford.edu)... 171.64.64.22\n",
            "Connecting to downloads.cs.stanford.edu (downloads.cs.stanford.edu)|171.64.64.22|:443... connected.\n",
            "HTTP request sent, awaiting response... 200 OK\n",
            "Length: 862182613 (822M) [application/zip]\n",
            "Saving to: ‘glove.6B.zip’\n",
            "\n",
            "glove.6B.zip        100%[===================>] 822.24M  5.02MB/s    in 2m 39s  \n",
            "\n",
            "2023-04-16 17:08:41 (5.18 MB/s) - ‘glove.6B.zip’ saved [862182613/862182613]\n",
            "\n"
          ]
        }
      ],
      "source": [
        "!wget http://nlp.stanford.edu/data/glove.6B.zip\n",
        "!unzip -q glove.6B.zip"
      ]
    },
    {
      "cell_type": "markdown",
      "metadata": {
        "id": "JFGWjpSUwdhe"
      },
      "source": [
        "**Parsing the GloVe word-embeddings file and Preparing the GloVe word-embeddings matrix**"
      ]
    },
    {
      "cell_type": "code",
      "execution_count": null,
      "metadata": {
        "id": "O18QPkdywdhe",
        "colab": {
          "base_uri": "https://localhost:8080/"
        },
        "outputId": "09c37578-a1d9-470f-9f87-6816cdc63abe"
      },
      "outputs": [
        {
          "output_type": "stream",
          "name": "stdout",
          "text": [
            "Found 400000 word vectors.\n"
          ]
        }
      ],
      "source": [
        "import numpy as np\n",
        "path_to_glove_file = \"glove.6B.100d.txt\"\n",
        "\n",
        "embeddings_index = {}\n",
        "with open(path_to_glove_file) as f:\n",
        "    for line in f:\n",
        "        word, coefs = line.split(maxsplit=1)\n",
        "        coefs = np.fromstring(coefs, \"f\", sep=\" \")\n",
        "        embeddings_index[word] = coefs\n",
        "\n",
        "print(f\"Found {len(embeddings_index)} word vectors.\")"
      ]
    },
    {
      "cell_type": "code",
      "execution_count": null,
      "metadata": {
        "id": "qrHDwTouwdhf"
      },
      "outputs": [],
      "source": [
        "embedding_dim = 100\n",
        "\n",
        "vocabulary = text_vectorization.get_vocabulary()\n",
        "word_index = dict(zip(vocabulary, range(len(vocabulary))))\n",
        "\n",
        "embedding_matrix = np.zeros((max_tokens, embedding_dim))\n",
        "for word, i in word_index.items():\n",
        "    if i < max_tokens:\n",
        "        embedding_vector = embeddings_index.get(word)\n",
        "    if embedding_vector is not None:\n",
        "        embedding_matrix[i] = embedding_vector"
      ]
    },
    {
      "cell_type": "code",
      "execution_count": null,
      "metadata": {
        "id": "QKNclXPawdhf"
      },
      "outputs": [],
      "source": [
        "embedding_layer = layers.Embedding(\n",
        "    max_tokens,\n",
        "    embedding_dim,\n",
        "    embeddings_initializer=keras.initializers.Constant(embedding_matrix),\n",
        "    trainable=False,\n",
        "    mask_zero=True,\n",
        ")"
      ]
    },
    {
      "cell_type": "markdown",
      "metadata": {
        "id": "G8Ss9beXwdhf"
      },
      "source": [
        "**Model that uses a pretrained Embedding layer**"
      ]
    },
    {
      "cell_type": "code",
      "execution_count": null,
      "metadata": {
        "id": "7_PeVHglwdhf",
        "colab": {
          "base_uri": "https://localhost:8080/"
        },
        "outputId": "15c9f85b-cf4b-4b96-ce89-2ad9190c73d9"
      },
      "outputs": [
        {
          "output_type": "stream",
          "name": "stdout",
          "text": [
            "Model: \"model_20\"\n",
            "_________________________________________________________________\n",
            " Layer (type)                Output Shape              Param #   \n",
            "=================================================================\n",
            " input_21 (InputLayer)       [(None, None)]            0         \n",
            "                                                                 \n",
            " embedding_8 (Embedding)     (None, None, 256)         2560000   \n",
            "                                                                 \n",
            " bidirectional_20 (Bidirecti  (None, 64)               73984     \n",
            " onal)                                                           \n",
            "                                                                 \n",
            " dropout_20 (Dropout)        (None, 64)                0         \n",
            "                                                                 \n",
            " dense_20 (Dense)            (None, 1)                 65        \n",
            "                                                                 \n",
            "=================================================================\n",
            "Total params: 2,634,049\n",
            "Trainable params: 2,634,049\n",
            "Non-trainable params: 0\n",
            "_________________________________________________________________\n",
            "Epoch 1/10\n",
            "16/16 [==============================] - 14s 585ms/step - loss: 0.6929 - accuracy: 0.5200 - val_loss: 0.6921 - val_accuracy: 0.5214\n",
            "Epoch 2/10\n",
            "16/16 [==============================] - 8s 522ms/step - loss: 0.6686 - accuracy: 0.6880 - val_loss: 0.6891 - val_accuracy: 0.5385\n",
            "Epoch 3/10\n",
            "16/16 [==============================] - 9s 580ms/step - loss: 0.6209 - accuracy: 0.8080 - val_loss: 0.6728 - val_accuracy: 0.5811\n",
            "Epoch 4/10\n",
            "16/16 [==============================] - 13s 853ms/step - loss: 0.4496 - accuracy: 0.8780 - val_loss: 0.6085 - val_accuracy: 0.6771\n",
            "Epoch 5/10\n",
            "16/16 [==============================] - 13s 860ms/step - loss: 0.1931 - accuracy: 0.9640 - val_loss: 0.6004 - val_accuracy: 0.6794\n",
            "Epoch 6/10\n",
            "16/16 [==============================] - 8s 489ms/step - loss: 0.0946 - accuracy: 0.9860 - val_loss: 0.7822 - val_accuracy: 0.6958\n",
            "Epoch 7/10\n",
            "16/16 [==============================] - 8s 518ms/step - loss: 0.0443 - accuracy: 0.9960 - val_loss: 0.7023 - val_accuracy: 0.6984\n",
            "Epoch 8/10\n",
            "16/16 [==============================] - 12s 813ms/step - loss: 0.0185 - accuracy: 1.0000 - val_loss: 0.8630 - val_accuracy: 0.7246\n",
            "Epoch 9/10\n",
            "16/16 [==============================] - 12s 807ms/step - loss: 0.0186 - accuracy: 0.9980 - val_loss: 0.8065 - val_accuracy: 0.7319\n",
            "Epoch 10/10\n",
            "16/16 [==============================] - 6s 387ms/step - loss: 0.0104 - accuracy: 1.0000 - val_loss: 0.8112 - val_accuracy: 0.7281\n",
            "782/782 [==============================] - 8s 9ms/step - loss: 0.6193 - accuracy: 0.6676\n",
            "Test acc: 0.668\n"
          ]
        }
      ],
      "source": [
        "inputs = keras.Input(shape=(None,), dtype=\"int64\")\n",
        "embedded = embedding_layer(inputs)\n",
        "x = layers.Bidirectional(layers.LSTM(32))(embedded)\n",
        "x = layers.Dropout(0.5)(x)\n",
        "outputs = layers.Dense(1, activation=\"sigmoid\")(x)\n",
        "model = keras.Model(inputs, outputs)\n",
        "model.compile(optimizer=\"adam\",\n",
        "              loss=\"binary_crossentropy\",\n",
        "              metrics=[\"accuracy\"])\n",
        "model.summary()\n",
        "\n",
        "callbacks = [\n",
        "    keras.callbacks.ModelCheckpoint(\"glove_embeddings_sequence_model.keras\",\n",
        "                                    save_best_only=True,\n",
        "                                    monitor=\"val_loss\")\n",
        "]\n",
        "model.fit(int_train_ds, validation_data=int_val_ds, epochs=10, callbacks=callbacks)\n",
        "model = keras.models.load_model(\"glove_embeddings_sequence_model.keras\")\n",
        "print(f\"Test acc: {model.evaluate(int_test_ds)[1]:.3f}\")"
      ]
    }
  ]
}